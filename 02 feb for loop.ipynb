{
 "cells": [
  {
   "cell_type": "code",
   "execution_count": 1,
   "id": "58a2eaec-d594-415b-becf-ebb2fdb42cf1",
   "metadata": {},
   "outputs": [],
   "source": [
    "# 1. explain with an example each when to use a for loop and a  while loop \n"
   ]
  },
  {
   "cell_type": "code",
   "execution_count": 5,
   "id": "f7dc5181-63e2-4afc-8e7b-9c9cd3e35456",
   "metadata": {},
   "outputs": [
    {
     "name": "stdout",
     "output_type": "stream",
     "text": [
      "1\n",
      "2\n",
      "3\n",
      "4\n",
      "5\n",
      "6\n"
     ]
    },
    {
     "name": "stdin",
     "output_type": "stream",
     "text": [
      "enter the number  50\n"
     ]
    },
    {
     "name": "stdout",
     "output_type": "stream",
     "text": [
      "3\n"
     ]
    }
   ],
   "source": [
    "#  use of foor loop when we know the loop should execute n times \n",
    "# for example\n",
    "l=[1,2,3,4,5,6]\n",
    "for i in l:\n",
    "    print(i)\n",
    "# where we want traversing the list we know that how many times the loop should \n",
    "# be execute so we use for loop .\n",
    "\n",
    "# while loop \n",
    "# use of while loop when we  not know that  how many times loop should be exectue \n",
    "# where we use condition when condition true loop will we execute otherwise loop will\n",
    "# not be execute \n",
    "# for example \n",
    "#   take a input from user and divide by 2 its untill before number \n",
    "#   should less than 10\n",
    "number = int (input(\"enter the number \"))\n",
    "count = 0              \n",
    "while (number>10):\n",
    "              count = count +1\n",
    "              number= number/2\n",
    "print(count)              \n",
    "              "
   ]
  },
  {
   "cell_type": "code",
   "execution_count": 6,
   "id": "5450b8b8-8751-4808-abb9-3b4f31a175fb",
   "metadata": {},
   "outputs": [],
   "source": [
    "#2. write a python program to print the sum and the product of first natural number \n",
    "# using for loop and while loop \n"
   ]
  },
  {
   "cell_type": "code",
   "execution_count": 21,
   "id": "616077c7-a3ba-423a-8e28-3c91b6cfc040",
   "metadata": {},
   "outputs": [
    {
     "name": "stdout",
     "output_type": "stream",
     "text": [
      "55\n"
     ]
    }
   ],
   "source": [
    "# for loop sum of 10 natural number\n",
    "l= list(range(1,11))\n",
    "sum = 0\n",
    "for i in l:\n",
    "    sum =sum+i\n",
    "print(sum)"
   ]
  },
  {
   "cell_type": "code",
   "execution_count": 26,
   "id": "d0df1ab3-6324-46d1-a8f1-eeb2d1efc045",
   "metadata": {},
   "outputs": [
    {
     "name": "stdout",
     "output_type": "stream",
     "text": [
      "3628800\n"
     ]
    }
   ],
   "source": [
    "# for loop  product of ten natural number \n",
    "l=list(range(1,11))\n",
    "product = 1\n",
    "for i in l:\n",
    "    product = product*i\n",
    "print(product)    "
   ]
  },
  {
   "cell_type": "code",
   "execution_count": 44,
   "id": "1b7282a2-0dec-4e2f-a4ab-e29e55d06ad6",
   "metadata": {},
   "outputs": [
    {
     "name": "stdout",
     "output_type": "stream",
     "text": [
      "55\n"
     ]
    }
   ],
   "source": [
    "# while loop sum of ten natural number\n",
    "\n",
    "sum=0\n",
    "n=1\n",
    "while(n<=10):\n",
    "    sum = sum +n\n",
    "    n=n+1\n",
    "print(sum)    "
   ]
  },
  {
   "cell_type": "code",
   "execution_count": 28,
   "id": "f819406e-7e08-445b-80f6-c19ae01a673f",
   "metadata": {},
   "outputs": [
    {
     "name": "stdout",
     "output_type": "stream",
     "text": [
      "3628800\n"
     ]
    }
   ],
   "source": [
    "# while loop product of ten natural nuumber\n",
    "product = 1\n",
    "n=1\n",
    "while(n<=10):\n",
    "    product =product*n\n",
    "    n=n+1\n",
    "print(product)    "
   ]
  },
  {
   "cell_type": "code",
   "execution_count": null,
   "id": "b3f239bb-7410-4c0c-b86a-c6d821502430",
   "metadata": {},
   "outputs": [],
   "source": [
    "# 3 create a python program to compute the electricity bill for a household ."
   ]
  },
  {
   "cell_type": "code",
   "execution_count": 38,
   "id": "3013c3dd-17f4-4952-b97a-86fb241ba537",
   "metadata": {},
   "outputs": [
    {
     "name": "stdin",
     "output_type": "stream",
     "text": [
      "enter the unit 310\n"
     ]
    },
    {
     "name": "stdout",
     "output_type": "stream",
     "text": [
      "2250.0\n"
     ]
    }
   ],
   "source": [
    "unit = int(input(\"enter the unit\"))\n",
    "bill=0\n",
    "for i in range(1,unit+1):\n",
    "    if (i<=100):\n",
    "        bill =bill+4.5\n",
    "    elif(i<=200):\n",
    "        bill=bill+6\n",
    "    elif(i<=300):\n",
    "        bill =bill +10\n",
    "    else:\n",
    "        bill =bill+20\n",
    "print(bill)      "
   ]
  },
  {
   "cell_type": "code",
   "execution_count": 46,
   "id": "22468e3e-a6f3-47ad-ad6e-fbbf6aad3b51",
   "metadata": {},
   "outputs": [
    {
     "name": "stdin",
     "output_type": "stream",
     "text": [
      "enter the unit 310\n"
     ]
    },
    {
     "name": "stdout",
     "output_type": "stream",
     "text": [
      "2250.0\n"
     ]
    }
   ],
   "source": [
    "# while loop\n",
    "\n",
    "unit = int(input(\"enter the unit\"))\n",
    "bill=0\n",
    "while(unit>0):\n",
    "    if (unit<=100):\n",
    "        bill =bill+4.5\n",
    "    elif(unit<=200):\n",
    "        bill=bill+6\n",
    "    elif(unit<=300):\n",
    "        bill =bill +10\n",
    "    else:\n",
    "        bill =bill+20\n",
    "    unit =unit-1    \n",
    "print(bill) "
   ]
  },
  {
   "cell_type": "code",
   "execution_count": null,
   "id": "a65c76b5-1b39-4ee4-9df9-c2d991f6f1c1",
   "metadata": {},
   "outputs": [],
   "source": [
    "# 4. CREATE A LIST OF NUMBER FROM 1 TO 100 .USE FOR LOOP AND WHILE LOOP  TO CALCULATE  THE CUBE OF EACH NUMBER AND IF THE CUBE OF THAT NUMBER IS DIVISIBLE BY 4 OR 5\n",
    "#    THEN APPEND THAT NUMBER AIN A LIST AND PRINT THAT LIST."
   ]
  },
  {
   "cell_type": "code",
   "execution_count": null,
   "id": "496ae884-f264-405a-9932-fa368e371bc8",
   "metadata": {},
   "outputs": [],
   "source": []
  },
  {
   "cell_type": "code",
   "execution_count": 23,
   "id": "b0ac4a84-ffa4-4b56-a15b-ede6e31f98d0",
   "metadata": {},
   "outputs": [
    {
     "name": "stdout",
     "output_type": "stream",
     "text": [
      "[8, 64, 125, 216, 512, 1000, 1728, 2744, 3375, 4096, 5832, 8000, 10648, 13824, 15625, 17576, 21952, 27000, 32768, 39304, 42875, 46656, 54872, 64000, 74088, 85184, 91125, 97336, 110592, 125000, 140608, 157464, 166375, 175616, 195112, 216000, 238328, 262144, 274625, 287496, 314432, 343000, 373248, 405224, 421875, 438976, 474552, 512000, 551368, 592704, 614125, 636056, 681472, 729000, 778688, 830584, 857375, 884736, 941192, 1000000]\n"
     ]
    }
   ],
   "source": [
    "# FOR LOOP \n",
    "l =list(range(1,100+1))\n",
    "l1=[]\n",
    "for i in range(1,len(l)+1):\n",
    "    a= i**3\n",
    "    if(a%4==0 or a%5==0):\n",
    "        l1.append(a)\n",
    "   \n",
    "   \n",
    "      \n",
    "print(l1)        \n",
    "    "
   ]
  },
  {
   "cell_type": "code",
   "execution_count": 17,
   "id": "f558dbba-45b3-4e99-b81b-03d7fcfa2b83",
   "metadata": {},
   "outputs": [
    {
     "name": "stdout",
     "output_type": "stream",
     "text": [
      "[8, 64, 125, 216, 512, 1000, 1728, 2744, 3375, 4096, 5832, 8000, 10648, 13824, 15625, 17576, 21952, 27000, 32768, 39304, 42875, 46656, 54872, 64000, 74088, 85184, 91125, 97336, 110592, 125000, 140608, 157464, 166375, 175616, 195112, 216000, 238328, 262144, 274625, 287496, 314432, 343000, 373248, 405224, 421875, 438976, 474552, 512000, 551368, 592704, 614125, 636056, 681472, 729000, 778688, 830584, 857375, 884736, 941192, 1000000]\n"
     ]
    }
   ],
   "source": [
    "# WHILE LOOP \n",
    "i=1\n",
    "l1=[]\n",
    "while (i<=100):\n",
    "    a = i**3\n",
    "    if (a%4==0 or a%5==0):\n",
    "        l1.append(a)\n",
    "    i= i+1\n",
    "print(l1)    "
   ]
  },
  {
   "cell_type": "code",
   "execution_count": 20,
   "id": "013399ab-824d-4fcb-909d-ab28cf9f6bca",
   "metadata": {},
   "outputs": [],
   "source": [
    "# 5. write a program  to filter count vowel in the below given string \n",
    "string = \"I want to become a data scientist\""
   ]
  },
  {
   "cell_type": "code",
   "execution_count": 22,
   "id": "690600a5-f701-495a-b78c-48f209b777a3",
   "metadata": {},
   "outputs": [
    {
     "name": "stdout",
     "output_type": "stream",
     "text": [
      "12\n"
     ]
    }
   ],
   "source": [
    "string = \"I want to become a data scientist\"\n",
    "count =0\n",
    "for i in string:\n",
    "    if (i==\"a\"or i =='A'):\n",
    "        count =count+1\n",
    "    if (i=='i'or i==\"I\"):\n",
    "        count = count+1\n",
    "    if (i ==\"e\" or i=='E'):\n",
    "        count =count+1\n",
    "    if(i=='o'or i==\"O\"):\n",
    "        count = count+1\n",
    "    if(i=='u'or i=='U'):\n",
    "        count =count+1\n",
    "print(count)        "
   ]
  },
  {
   "cell_type": "code",
   "execution_count": null,
   "id": "a647d500-b6a0-451b-ad22-88d51afcc3ed",
   "metadata": {},
   "outputs": [],
   "source": []
  }
 ],
 "metadata": {
  "kernelspec": {
   "display_name": "Python 3 (ipykernel)",
   "language": "python",
   "name": "python3"
  },
  "language_info": {
   "codemirror_mode": {
    "name": "ipython",
    "version": 3
   },
   "file_extension": ".py",
   "mimetype": "text/x-python",
   "name": "python",
   "nbconvert_exporter": "python",
   "pygments_lexer": "ipython3",
   "version": "3.10.8"
  }
 },
 "nbformat": 4,
 "nbformat_minor": 5
}
